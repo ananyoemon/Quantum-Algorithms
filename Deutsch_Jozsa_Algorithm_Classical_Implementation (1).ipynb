{
  "nbformat": 4,
  "nbformat_minor": 0,
  "metadata": {
    "colab": {
      "name": "Deutsch-Jozsa Algorithm Classical Implementation.ipynb",
      "provenance": [],
      "collapsed_sections": []
    },
    "kernelspec": {
      "name": "python3",
      "display_name": "Python 3"
    },
    "language_info": {
      "name": "python"
    }
  },
  "cells": [
    {
      "cell_type": "code",
      "source": [
        " # Classical Implementation of Deutsch-Jozsa Algorithm\n",
        "class Deutsch_Jozsa():                              \n",
        "\n",
        "  def __init__(self):   \n",
        "    pass\n",
        "\n",
        "# Constant Function\n",
        "  def func_1(self,st,n):                           \n",
        "    return int(st) & 0\n",
        "\n",
        "# Balanced Function\n",
        "  def func_2(self,st,n):                           \n",
        "    ans=int(st[0])\n",
        "    for i in range(1,n):\n",
        "      x=int(st[i])\n",
        "      ans= ans ^ x\n",
        "    return ans\n",
        "\n",
        "# Generate 2^(n-1) + 1 cases to check nature of function; n is number of bits\n",
        "  def generate_cases(self,n):                  \n",
        "    num=pow(2,n-1)+1\n",
        "    input=[]\n",
        "    for i in range(num):\n",
        "      case=bin(i)[2:]\n",
        "      case=\"0\"*(n-len(case))+case\n",
        "      input.append(case)\n",
        "    return input\n",
        "\n",
        "# Checking nature of function by counting number of zeros and ones in the output of the function\n",
        "  def check(self,a,b):                        \n",
        "    if a > 0 and b > 0:\n",
        "      print(\"The function is balanced\")\n",
        "    else:\n",
        "      print(\"The function is constant\")\n",
        "\n",
        "\n",
        "# Compiling the entire algorithm\n",
        "  def algo(self,n):                           \n",
        "\n",
        "    num=pow(2,n-1)+1\n",
        "    input= self.generate_cases(n)\n",
        "\n",
        "    count_zero=0\n",
        "    count_one=0\n",
        "\n",
        "    for i in input:          \n",
        "    #Checking for Fucntion 2 change to Function 1 (self.func_1) to check its performance             \n",
        "      ans=self.func_2(i,n)   \n",
        "      if ans==0:\n",
        "        count_zero+=1\n",
        "      else:\n",
        "        count_one+=1\n",
        "\n",
        "    self.check(count_zero,count_one)    "
      ],
      "metadata": {
        "id": "d13BZkd8qu5j"
      },
      "execution_count": 6,
      "outputs": []
    },
    {
      "cell_type": "markdown",
      "source": [
        "The above implementation demostrates the idea of Deutsch's Algorithm perfectly.\n",
        "Deutsch's algorithm for n bits is used to identify if a given function is constant or balanced in nature.      \n",
        "A function is said is said to be constant in nature if it is defined on a boolean input of n bits and produces the same boolean output for all possible values of the input.        \n",
        "A function is said to be balanced in nature if it is defined on a boolean input of n bits and produces the output as 0 for exactly half of the inputs.         \n",
        "To execute the problem classically, we tend to check the output produced by exactly one more than half the possible cases for n bits given. Since, by definition, a function will not be balanced if more than half the produce the same output, they would mostly be constant in nature. We use this intution for our code."
      ],
      "metadata": {
        "id": "mwZGniWsQT4p"
      }
    },
    {
      "cell_type": "markdown",
      "source": [
        "Class Deutsch_Jozsa is initialized for the problem presented employing the following functions -                 \n",
        "\n",
        "*   func_1(st,n) - This function demonstrates a constant function. It takes an input string and its length as the parameters and it returns the computation of this function as an output.\n",
        "\n",
        "\n",
        "*   func_2(st,n) - This function demonstrates a balanced function. It takes an input string and its length as the parameters and it returns the computation of this function as an output.\n",
        "\n",
        "\n",
        "*   generate_cases(n) - This function is used to generate ( 2^(n-1) + 1 ) cases that would test the function that is called. This function takes in the number of bits as input and returns a list of elements conatining the cases as a string.\n",
        "\n",
        "*   check(a,b) - This function takes a and b as inputs and checks the count of outputs given as zeros and ones by the function.  \n",
        "\n",
        "\n",
        "*   algo(n) - This function implementats the entire algorithm. It takes the number of bits as input. This is followed by case generation for testing using the generate_cases() function. A loop is then used to pass the test cases to the function and obtain the count of output zero and one followed by function check() to find the nature of the function.\n",
        "\n",
        "\n",
        "\n",
        "\n",
        "\n",
        "\n"
      ],
      "metadata": {
        "id": "19X3--NnZT5S"
      }
    },
    {
      "cell_type": "code",
      "source": [
        "d= Deutsch_Jozsa()\n",
        "d.algo(6)"
      ],
      "metadata": {
        "colab": {
          "base_uri": "https://localhost:8080/"
        },
        "id": "PJ9jKmjx1JR8",
        "outputId": "a6ce073e-91a8-4a30-af67-e785ff02cad5"
      },
      "execution_count": 7,
      "outputs": [
        {
          "output_type": "stream",
          "name": "stdout",
          "text": [
            "The function is balanced\n"
          ]
        }
      ]
    }
  ]
}