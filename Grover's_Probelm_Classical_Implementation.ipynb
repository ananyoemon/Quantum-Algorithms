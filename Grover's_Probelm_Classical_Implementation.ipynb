{
  "nbformat": 4,
  "nbformat_minor": 0,
  "metadata": {
    "colab": {
      "name": "Grover's Algorithm Classical Implementation.ipynb",
      "provenance": []
    },
    "kernelspec": {
      "name": "python3",
      "display_name": "Python 3"
    },
    "language_info": {
      "name": "python"
    }
  },
  "cells": [
    {
      "cell_type": "markdown",
      "source": [
        "Grover's algorithm developed by Lov Grover in 1996 refers to a quantum algorithm for unstructured search that finds with high probability the unique input to a black box function that produces a particular output value, using just O√n evaluations of the function, where n is the size of the function's domain. \n",
        "\n",
        "A classical implementation of the Grover's Algorithm is implemented below. \n",
        "The following functions are utiized to emulate the algorithm:\n",
        "\n",
        "\n",
        "* Black_Box_function - This is the 'Black Box' function defined by us that returns 1 for only a particular input and 0 for the others. This function employs a bitwise AND function. \n",
        "\n",
        "* generate_cases - This employed to generate the test cases to evaluate the output of the Black Box. This takes 'n' as input returns all the possible test cases for it. (n is the number of bits)\n",
        "\n",
        "* Algo() - This is used to complie the entire classical implenatation of Grover's alogrithm and calls the Black Box function and generate cases function to achieve the desired results. The input to this function in the number of bits 'n'. \n",
        "\n"
      ],
      "metadata": {
        "id": "C29A9xyUrCQk"
      }
    },
    {
      "cell_type": "code",
      "execution_count": 32,
      "metadata": {
        "id": "E-acHjXh0hoT"
      },
      "outputs": [],
      "source": [
        "# Classical Implementation of Grover's Algorithm\n",
        "\n",
        "# Defining a function that produces an output = 1 when input is unique and 0 otherwise\n",
        "def Black_Box_function(x):          \n",
        "  ans=1\n",
        "  \n",
        "  for i in x:\n",
        "    tmp=int(i)\n",
        "    ans = ans & tmp\n",
        "  return ans  \n",
        "\n",
        "# Defining a fucntion to generate \"n\" cases to check for a unique value given by the function defined above (Black_Box_function); n-> number of bits\n",
        "  def generate_cases(n):                  \n",
        "    num=pow(2,n)\n",
        "    input=[]\n",
        "    for i in range(num):\n",
        "      case=bin(i)[2:]\n",
        "      case=\"0\"*(n-len(case))+case\n",
        "      input.append(case)\n",
        "    return input\n",
        "\n",
        "# Compiling the entire algorithm\n",
        "  def Algo(n):                                               \n",
        "    cases=generate_cases(n)\n",
        "    num=pow(2,n)\n",
        "    a_star=\"\"\n",
        "    for i in cases:\n",
        "      result = Black_Box_function(i)\n",
        "      if (result == 1):\n",
        "        a_star=i\n",
        "      break\n",
        "  \n",
        "  print(\"Unique value of x: \",a_star)"
      ]
    },
    {
      "cell_type": "code",
      "source": [
        "Algo(5)"
      ],
      "metadata": {
        "colab": {
          "base_uri": "https://localhost:8080/"
        },
        "id": "CO3s80BqADhZ",
        "outputId": "da125d54-b159-4a6f-e0f8-aa61f453f130"
      },
      "execution_count": 33,
      "outputs": [
        {
          "output_type": "stream",
          "name": "stdout",
          "text": [
            "Unique value of x:  11111\n"
          ]
        }
      ]
    }
  ]
}