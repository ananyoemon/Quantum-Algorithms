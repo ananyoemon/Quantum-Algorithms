{
  "nbformat": 4,
  "nbformat_minor": 0,
  "metadata": {
    "colab": {
      "name": "Bernstein-Vazirani Algorithm Classical Implementation.ipynb",
      "provenance": []
    },
    "kernelspec": {
      "name": "python3",
      "display_name": "Python 3"
    },
    "language_info": {
      "name": "python"
    }
  },
  "cells": [
    {
      "cell_type": "code",
      "source": [
        "from random import randint\n",
        "import numpy as np"
      ],
      "metadata": {
        "id": "WLYO-A_3f3gm"
      },
      "execution_count": null,
      "outputs": []
    },
    {
      "cell_type": "code",
      "source": [
        "# Classical Implementation of Bernstein-Vazirani Algorithm\n",
        "class bernstein():\n",
        "\n",
        "#Intialization of random bit b\n",
        "  def __init__(self):                   \n",
        "    self.s=0\n",
        "    self.b=0\n",
        "\n",
        "#Generating secret number to encode later\n",
        "  def rand_num(self,n):                 \n",
        "    self.s=randint(0,pow(2,n))\n",
        "    self.b=randint(0,1)\n",
        "    print(\"Random number encoded (as a reference) = \",self.s)\n",
        "    print(\"Value of b (as a reference) = \",self.b)\n",
        "\n",
        "\n",
        "# The Black Box Function f(x)\n",
        "  def U_func(self,query):               \n",
        "    a=bin(self.s)[2:]\n",
        "    x=\"0\"*(len(a)-len(query))+query\n",
        "    \n",
        "    if (len(query)>len(a)):\n",
        "      return self.b\n",
        "    \n",
        "    ans=0\n",
        "\n",
        "    for i in range(len(a)):\n",
        "      ans=ans+(int(a[i])*int(x[i])%2) \n",
        "    ans=ans%2+self.b\n",
        "    return ans\n",
        "  \n",
        "# Compiling the entire algorithm\n",
        "  def algo(self,n):                      \n",
        " \n",
        "    query=1\n",
        "# Encoding the secret number\n",
        "    self.rand_num(n)          \n",
        "# Guessing value of b           \n",
        "    b=self.U_func(\"0\")                    \n",
        "    \n",
        "    bit=1\n",
        "    num=0\n",
        "\n",
        "# Estimating value of a, bit by bit\n",
        "    for i in range(1,n+1):              \n",
        "\n",
        "      tmp=self.U_func(bin(bit)[2:])          \n",
        "      num=num + bit*(tmp-b)\n",
        "      bit=bit<<1\n",
        "\n",
        "    print(\"Final value of a = \",num)\n",
        "    print(\"Final value of b = \",b)\n",
        "\n",
        "\n",
        "\n",
        "    \n",
        "\n",
        "\n",
        "\n",
        "\n"
      ],
      "metadata": {
        "id": "QVEMb0aW_8ja"
      },
      "execution_count": null,
      "outputs": []
    },
    {
      "cell_type": "code",
      "source": [
        "b=bernstein()\n",
        "b.algo(6)    # input passed is n for number of bits"
      ],
      "metadata": {
        "colab": {
          "base_uri": "https://localhost:8080/"
        },
        "id": "lTOJbmfJYWHl",
        "outputId": "647415f5-7458-4a4f-fdc2-08aca4b5a000"
      },
      "execution_count": null,
      "outputs": [
        {
          "output_type": "stream",
          "name": "stdout",
          "text": [
            "Random number encoded for reference =  36\n",
            "value of b for reference=  1\n",
            "Final value of a =  36\n",
            "Final value of b =  1\n"
          ]
        }
      ]
    },
    {
      "cell_type": "markdown",
      "source": [
        "The Bernstein-Vazirani algorithm is used as verifier to identify the a secret number encoded inside a black box function with the assistance of a helper bit.\n",
        "\n",
        "The classical way of realising this algorithm is to make use of property of the function that is used to encode the secret number. \n",
        "\n",
        "Given n as the length of the input / number of bits, we can send n queries, one for each bit and then compile all he queries to reconstruct the encoded number. This is the intution used behind this code."
      ],
      "metadata": {
        "id": "TsaWwxMSc4EV"
      }
    },
    {
      "cell_type": "markdown",
      "source": [
        "Class Bernstein-Vazirani  is initialized for the problem presented employing the following functions - \n",
        "\n",
        "\n",
        "*   __init__() - Initializing the secret number in black box, the variable s and the extra bit b. \n",
        "\n",
        "*   rand_num(n) - It takes the number of bits as input and generates a random number that will be encoded as the number inside the black box. It also assigns a value to the extra bit.\n",
        "\n",
        "*   U_func(query) - This function takes a user query as an n bit string as input and  also the secret number in the form of aX+b, where a represents the secret number, X represents the query that user can send to the function and b is the extar bit. Tr then returns the computation of aX+b.\n",
        "\n",
        "*   algo(n) - This function implementats the entire algorithm. It starts by generating the secret number followed by determining the value of b by sending a \"0\" bit string. It is then discovered by the intution that aX+b would be a&0 + b which would return the value of b. Then, a loop is used to query the function n times to determine the bit at each position by sending a query each time with query value corrosponding to only one bit set, the bit of the secret number we need to find out. All these queries are then compiled using an OR gate. This finally gives us the value of the encoded secret number in the black box. \n",
        "\n",
        "\n",
        "\n"
      ],
      "metadata": {
        "id": "ZZe-_aWDc4Jx"
      }
    }
  ]
}