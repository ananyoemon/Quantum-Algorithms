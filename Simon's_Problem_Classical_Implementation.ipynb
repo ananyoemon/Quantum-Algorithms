{
  "nbformat": 4,
  "nbformat_minor": 0,
  "metadata": {
    "colab": {
      "name": "Simon's Algorithm Classical Implementation.ipynb",
      "provenance": []
    },
    "kernelspec": {
      "name": "python3",
      "display_name": "Python 3"
    },
    "language_info": {
      "name": "python"
    }
  },
  "cells": [
    {
      "cell_type": "markdown",
      "source": [
        "Simon’s problem is set in the model of decision tree complexity or query complexity and was conceived and solved by Daniel Simon in 1994. Simon's algorithm uses a linear number of queries, and any classical probabilistic algorithm must use an exponential number of queries. It was the first quantum algorithm to show an exponential speed-up versus the best classical algorithm in solving a specific problem. Simon’s algorithm is credited to inspire the algorithms based on the Quantum Fourier Transform and Shor's factoring algorithm.\n",
        "\n",
        "A classical implementation of the Simon's Algorithm is implemented below. \n",
        "The following functions are utiized to emulate the algorithm:\n",
        "\n",
        "* convert - This is employed to  convert a number in binary which is stored as a string to integer format.\n",
        "\n",
        "* Black_Box_function -  This is the 'Black Box' function defined by us. It defines a periodic function whose period needs to be evaluated. \n",
        "\n",
        "  Input-> binary number 'i' \n",
        "\n",
        "  Output-> the computation f(i).\n",
        "\n",
        "* generate_cases - This employed to generate the test cases to evaluate the output of the Black Box. This takes 'n' as input returns all the possible test cases for it. (n is the number of bits)\n",
        "\n",
        "* check - This function is used to evaluate the periodicity of the Black Box function. It takes the inputs - 'x' and 'y' (those that have produced the same output on the Black Box function). It performs the '+' operation (bitwise addition and mod 2) on the input to evaluate the period.  \n",
        "\n",
        "* Algo - This is used to complie the entire classical implenatation of Simon's alogrithm and calls the cases function,Black Box function, generate cases function and check function to achieve the desired results. The input to this function in the number of bits 'n'.\n"
      ],
      "metadata": {
        "id": "4iR2a7BW16m3"
      }
    },
    {
      "cell_type": "code",
      "execution_count": 18,
      "metadata": {
        "id": "v_YxekwpqLyr"
      },
      "outputs": [],
      "source": [
        "# Classical Implementation of Simon's Algorithm\n",
        "\n",
        "# Defining a function that converts a number in binary (stored as string) to integer format\n",
        "def convert(i):               \n",
        "  rev=i[::-1]\n",
        "  n=0\n",
        "  ans=0\n",
        "  for x in rev:\n",
        "    ans=ans+pow(2,n)*int(x)\n",
        "    n=n+1\n",
        "  return ans\n",
        "\n",
        "# Defining a periodic function to check if the number is even/odd \n",
        "def Black_Box_function(i):                  \n",
        "  return convert(i)%2\n",
        "\n",
        "\n",
        "# Defining a fucntion to generate \"n\" cases to check if the function produces similar output for different inputs; n-> number of bits \n",
        "def generate_cases(n):                 \n",
        "    num=pow(2,n)\n",
        "    input=[]\n",
        "    for i in range(num):\n",
        "      case=bin(i)[2:]\n",
        "      case=\"0\"*(n-len(case))+case\n",
        "      input.append(case)\n",
        "    return input\n",
        "\n",
        "\n",
        "# Function defined to evaluate the periodicity of the Black Box function \n",
        "# This analyzes the values that produce the same output from the Black Box by using the \"+\"\" operator as defined in the assignment bit by bit\n",
        "def check(l):                       \n",
        "\n",
        "  x=bin(l.pop())[2:]\n",
        "  y=bin(l.pop())[2:]\n",
        "\n",
        "  if(len(y)>len(x)):\n",
        "    extra=len(y)\n",
        "    x=\"0\"*(extra-len(x))+x\n",
        "  else:\n",
        "    extra=len(x)\n",
        "    y=\"0\"*(extra-len(y))+y\n",
        "\n",
        "  result=\"\"\n",
        "  for i in range(len(x)):\n",
        "    a=int(x[i])\n",
        "    b=int(y[i])\n",
        "\n",
        "    tmp=(a+b)%2\n",
        "    result=result+str(tmp)\n",
        "\n",
        "  return result               \n",
        "\n",
        "\n",
        "# Compiling the entire algorithm\n",
        "def Algo(n):                                              \n",
        "  \n",
        "  d={}\n",
        "  cases=generate_cases(n)\n",
        "\n",
        "  for i in range(len(cases)):\n",
        "\n",
        "    out=Black_Box_function(cases[i])\n",
        "    if (out not in d):\n",
        "      d[out]=[] \n",
        "      d[out].append(i)\n",
        "    else:     \n",
        "      d[out].append(i)\n",
        "      break\n",
        "  period = check(d[out])\n",
        "\n",
        "  print(\"Perioditicity Evaluated by the Algorithm: \",period) "
      ]
    },
    {
      "cell_type": "code",
      "source": [
        "Algo(5)"
      ],
      "metadata": {
        "colab": {
          "base_uri": "https://localhost:8080/"
        },
        "id": "NH-8zwdKu0TA",
        "outputId": "74ae75b7-2cbc-41a2-b99e-9e8fa9d20018"
      },
      "execution_count": 19,
      "outputs": [
        {
          "output_type": "stream",
          "name": "stdout",
          "text": [
            "Perioditicity Evaluated by the Algorithm:  10\n"
          ]
        }
      ]
    }
  ]
}